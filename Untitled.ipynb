{
 "cells": [
  {
   "cell_type": "code",
   "execution_count": 88,
   "id": "3b9e2542",
   "metadata": {
    "ExecuteTime": {
     "end_time": "2022-01-05T22:07:41.600627Z",
     "start_time": "2022-01-05T22:07:41.213838Z"
    }
   },
   "outputs": [],
   "source": [
    "import nltk\n",
    "import re\n",
    "from pathlib import Path\n",
    "from collections import Counter\n",
    "from itertools import chain\n",
    "import pandas as pd"
   ]
  },
  {
   "cell_type": "code",
   "execution_count": 51,
   "id": "8abb515a",
   "metadata": {
    "ExecuteTime": {
     "end_time": "2022-01-05T22:03:02.824350Z",
     "start_time": "2022-01-05T22:03:02.820866Z"
    }
   },
   "outputs": [],
   "source": [
    "words = Path('./most_common_10k_words.txt').read_text().split()[:5000]\n",
    "words = sorted(filter(lambda x: len(x) == 5, words))"
   ]
  },
  {
   "cell_type": "code",
   "execution_count": 138,
   "id": "de07cbf9",
   "metadata": {
    "ExecuteTime": {
     "end_time": "2022-01-05T22:17:25.867897Z",
     "start_time": "2022-01-05T22:17:25.863433Z"
    }
   },
   "outputs": [],
   "source": [
    "char_and_index = Counter(chain.from_iterable(map(enumerate, words)))\n",
    "df = pd.DataFrame(\n",
    "    [(index, char, count)\n",
    "    for (index, char), count\n",
    "    in Counter(char_and_index).items()],\n",
    "    columns=['index', 'character', 'count']\n",
    ")"
   ]
  },
  {
   "cell_type": "code",
   "execution_count": 141,
   "id": "ddd9bffa",
   "metadata": {
    "ExecuteTime": {
     "end_time": "2022-01-05T22:17:39.149212Z",
     "start_time": "2022-01-05T22:17:39.146080Z"
    }
   },
   "outputs": [],
   "source": [
    "df['freq'] = df['count'] / len(words)"
   ]
  },
  {
   "cell_type": "code",
   "execution_count": 155,
   "id": "90178fe7",
   "metadata": {
    "ExecuteTime": {
     "end_time": "2022-01-05T22:20:11.557669Z",
     "start_time": "2022-01-05T22:20:11.555276Z"
    }
   },
   "outputs": [],
   "source": [
    "import seaborn as sns\n",
    "import matplotlib.pyplot as plt"
   ]
  },
  {
   "cell_type": "code",
   "execution_count": 172,
   "id": "a0147936",
   "metadata": {
    "ExecuteTime": {
     "end_time": "2022-01-05T22:29:19.611939Z",
     "start_time": "2022-01-05T22:29:19.090509Z"
    }
   },
   "outputs": [
    {
     "data": {
      "image/png": "[encoded data removed]",
      "text/plain": [
       "<Figure size 288x720 with 2 Axes>"
      ]
     },
     "metadata": {
      "needs_background": "light"
     },
     "output_type": "display_data"
    },
    {
     "data": {
      "image/png": "[encoded data removed]",
      "text/plain": [
       "<Figure size 288x720 with 2 Axes>"
      ]
     },
     "metadata": {
      "needs_background": "light"
     },
     "output_type": "display_data"
    }
   ],
   "source": [
    "pivot = df.pivot(\n",
    "    columns='index',\n",
    "    index='character',\n",
    "    values='count'\n",
    ").fillna(0).sort_index()\n",
    "\n",
    "fig, ax = plt.subplots(figsize=(4, 10))\n",
    "sns.heatmap(\n",
    "    pivot.div(pivot.sum(1), axis=0),\n",
    "    cmap='Blues',\n",
    "    ax=ax\n",
    "    \n",
    ")\n",
    "plt.show()\n",
    "\n",
    "fig, ax = plt.subplots(figsize=(4, 10))\n",
    "sns.heatmap(\n",
    "    pivot,\n",
    "    cmap='Blues',\n",
    "    ax=ax\n",
    "    \n",
    ")\n",
    "plt.show()"
   ]
  },
  {
   "cell_type": "code",
   "execution_count": 180,
   "id": "a80c1d06",
   "metadata": {
    "ExecuteTime": {
     "end_time": "2022-01-05T22:30:26.012133Z",
     "start_time": "2022-01-05T22:30:26.004680Z"
    }
   },
   "outputs": [
    {
     "data": {
      "text/plain": [
       "character\n",
       "e    417\n",
       "s    353\n",
       "a    337\n",
       "r    284\n",
       "o    257\n",
       "t    249\n",
       "i    228\n",
       "l    223\n",
       "n    193\n",
       "d    150\n",
       "c    133\n",
       "h    127\n",
       "u    108\n",
       "p    101\n",
       "m     95\n",
       "g     89\n",
       "b     70\n",
       "y     70\n",
       "k     65\n",
       "w     58\n",
       "f     57\n",
       "v     47\n",
       "x     11\n",
       "j     11\n",
       "q     10\n",
       "z      7\n",
       "Name: count, dtype: int64"
      ]
     },
     "execution_count": 180,
     "metadata": {},
     "output_type": "execute_result"
    }
   ],
   "source": [
    "df.groupby('character')['count'].sum().sort_values(ascending=False)"
   ]
  },
  {
   "cell_type": "code",
   "execution_count": null,
   "id": "84884aeb",
   "metadata": {},
   "outputs": [],
   "source": [
    "timer tired miter titer"
   ]
  }
 ],
 "metadata": {
  "kernelspec": {
   "display_name": "Python 3",
   "language": "python",
   "name": "python3"
  },
  "language_info": {
   "codemirror_mode": {
    "name": "ipython",
    "version": 3
   },
   "file_extension": ".py",
   "mimetype": "text/x-python",
   "name": "python",
   "nbconvert_exporter": "python",
   "pygments_lexer": "ipython3",
   "version": "3.7.3"
  }
 },
 "nbformat": 4,
 "nbformat_minor": 5
}
